{
 "cells": [
  {
   "cell_type": "code",
   "execution_count": 1,
   "metadata": {
    "collapsed": true
   },
   "outputs": [],
   "source": [
    "import pandas as pd\n",
    "import os"
   ]
  },
  {
   "cell_type": "code",
   "execution_count": 11,
   "outputs": [],
   "source": [
    "data=pd.read_csv(\"movies.csv\")"
   ],
   "metadata": {
    "collapsed": false,
    "pycharm": {
     "name": "#%%\n"
    }
   }
  },
  {
   "cell_type": "code",
   "execution_count": 12,
   "outputs": [
    {
     "data": {
      "text/plain": "PG-13    285\nPG       161\nR        142\nG         27\nName: mpaa_rating, dtype: int64"
     },
     "execution_count": 12,
     "metadata": {},
     "output_type": "execute_result"
    }
   ],
   "source": [
    "data.mpaa_rating.value_counts()"
   ],
   "metadata": {
    "collapsed": false,
    "pycharm": {
     "name": "#%%\n"
    }
   }
  },
  {
   "cell_type": "code",
   "execution_count": 4,
   "outputs": [],
   "source": [
    "#For our output, let's make an excel tab for each mpaa rating.\n",
    "#where each tab will have the respective top 10 rated movies."
   ],
   "metadata": {
    "collapsed": false,
    "pycharm": {
     "name": "#%%\n"
    }
   }
  },
  {
   "cell_type": "code",
   "execution_count": 13,
   "outputs": [
    {
     "data": {
      "text/plain": "Index(['movieid', 'title', 'mpaa_rating', 'budget', 'gross', 'release_date',\n       'genre', 'runtime', 'rating', 'rating_count', 'summary'],\n      dtype='object')"
     },
     "execution_count": 13,
     "metadata": {},
     "output_type": "execute_result"
    }
   ],
   "source": [
    "data.columns"
   ],
   "metadata": {
    "collapsed": false,
    "pycharm": {
     "name": "#%%\n"
    }
   }
  },
  {
   "cell_type": "code",
   "execution_count": 16,
   "outputs": [],
   "source": [
    "columns_needed=['title', 'mpaa_rating','release_date','genre', 'rating', 'summary']\n",
    "data=data[columns_needed]"
   ],
   "metadata": {
    "collapsed": false,
    "pycharm": {
     "name": "#%%\n"
    }
   }
  },
  {
   "cell_type": "code",
   "execution_count": 27,
   "outputs": [],
   "source": [
    "pg_movies=data[data['mpaa_rating']==\"PG\"].sort_values(by='rating',ascending=False).head(10)\n",
    "r_movies=data[data['mpaa_rating']==\"R\"].sort_values(by='rating',ascending=False).head(10)\n",
    "pg13_movies=data[data['mpaa_rating']==\"PG-13\"].sort_values(by='rating',ascending=False).head(10)\n",
    "g_movies=data[data['mpaa_rating']==\"G\"].sort_values(by='rating',ascending=False).head(10)"
   ],
   "metadata": {
    "collapsed": false,
    "pycharm": {
     "name": "#%%\n"
    }
   }
  },
  {
   "cell_type": "code",
   "execution_count": 28,
   "outputs": [],
   "source": [
    "def format_excel_tab(df,tab_name,colour=\"green\"):\n",
    "    \"\"\"\n",
    "\n",
    "    :param df: name of dataframe\n",
    "    :param tab_name: tab in df to be formatted\n",
    "    :param colour: colour for tab header + column header\n",
    "    :return: selected tabs is formatted, inplace\n",
    "    \"\"\"\n",
    "    worksheet = writer.sheets[tab_name]\n",
    "    worksheet.set_tab_color(colour)\n",
    "    auto_width(df,tab_name)\n",
    "    header_format(df,tab_name,colour)\n",
    "\n",
    "def auto_width(df,tab):\n",
    "    \"\"\"\n",
    "\n",
    "\n",
    "    :param df: name of dataframe\n",
    "    :param tab: tab in df with improper width\n",
    "    :return: selected tabs' columns' width is auto set, inplace\n",
    "    \"\"\"\n",
    "    for column in df:\n",
    "        column_width = max(df[column].astype(str).map(len).max(), len(column))\n",
    "        col_idx = df.columns.get_loc(column)\n",
    "        writer.sheets[f'{tab}'].set_column(col_idx, col_idx, column_width)\n",
    "\n",
    "def header_format(df,tab,colour=\"green\"):\n",
    "    \"\"\"\n",
    "\n",
    "    :param df: name of dataframe\n",
    "    :param tab: tab in df with improper width\n",
    "    :return:selected tabs' columns' headers are coloured, inplace\n",
    "    \"\"\"\n",
    "    header_format = workbook.add_format({\n",
    "        'bold': True,\n",
    "        'text_wrap': True,\n",
    "        'valign': 'top',\n",
    "        'fg_color': colour,\n",
    "        'border': 1,\n",
    "        'align':'center'})\n",
    "\n",
    "    for col_num, value in enumerate(df.columns.values):\n",
    "        writer.sheets[f'{tab}'].write(0, col_num, value, header_format)\n"
   ],
   "metadata": {
    "collapsed": false,
    "pycharm": {
     "name": "#%%\n"
    }
   }
  },
  {
   "cell_type": "code",
   "execution_count": 29,
   "outputs": [],
   "source": [
    "saved_filename=\"Movies_Per_Category.xlsx\"\n",
    "\n",
    "with pd.ExcelWriter(saved_filename) as writer:\n",
    "\n",
    "    workbook  = writer.book\n",
    "\n",
    "    g_movies.to_excel(writer, sheet_name='G',index=False)\n",
    "    format_excel_tab(g_movies,\"G\",\"orange\")\n",
    "\n",
    "    r_movies.to_excel(writer, sheet_name='R',index=False)\n",
    "    format_excel_tab(pg_movies,\"R\",\"red\")\n",
    "\n",
    "    pg_movies.to_excel(writer, sheet_name='PG',index=False)\n",
    "    format_excel_tab(pg_movies,\"PG\") #default green\n",
    "\n",
    "    pg13_movies.to_excel(writer, sheet_name='PG-13',index=False)\n",
    "    format_excel_tab(pg13_movies,\"PG-13\")"
   ],
   "metadata": {
    "collapsed": false,
    "pycharm": {
     "name": "#%%\n"
    }
   }
  },
  {
   "cell_type": "code",
   "execution_count": 30,
   "outputs": [],
   "source": [
    "os.startfile(\"Movies_Per_Category.xlsx\", 'open')"
   ],
   "metadata": {
    "collapsed": false,
    "pycharm": {
     "name": "#%%\n"
    }
   }
  }
 ],
 "metadata": {
  "kernelspec": {
   "display_name": "Python 3",
   "language": "python",
   "name": "python3"
  },
  "language_info": {
   "codemirror_mode": {
    "name": "ipython",
    "version": 2
   },
   "file_extension": ".py",
   "mimetype": "text/x-python",
   "name": "python",
   "nbconvert_exporter": "python",
   "pygments_lexer": "ipython2",
   "version": "2.7.6"
  }
 },
 "nbformat": 4,
 "nbformat_minor": 0
}